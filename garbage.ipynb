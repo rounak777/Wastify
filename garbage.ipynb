{
  "nbformat": 4,
  "nbformat_minor": 0,
  "metadata": {
    "colab": {
      "name": "garbage.ipynb",
      "provenance": [],
      "authorship_tag": "ABX9TyOgqPR2k0DN7tXWXm/UHE+v",
      "include_colab_link": true
    },
    "kernelspec": {
      "name": "python3",
      "display_name": "Python 3"
    },
    "accelerator": "GPU"
  },
  "cells": [
    {
      "cell_type": "markdown",
      "metadata": {
        "id": "view-in-github",
        "colab_type": "text"
      },
      "source": [
        "<a href=\"https://colab.research.google.com/github/rounak777/Wastify/blob/master/garbage.ipynb\" target=\"_parent\"><img src=\"https://colab.research.google.com/assets/colab-badge.svg\" alt=\"Open In Colab\"/></a>"
      ]
    },
    {
      "cell_type": "code",
      "metadata": {
        "id": "KJB4nG0h5he-",
        "colab_type": "code",
        "colab": {}
      },
      "source": [
        "import numpy as np\n",
        "import matplotlib.pyplot as plt\n",
        "import pandas as pd"
      ],
      "execution_count": 1,
      "outputs": []
    },
    {
      "cell_type": "code",
      "metadata": {
        "id": "39EdssuN58dk",
        "colab_type": "code",
        "colab": {
          "base_uri": "https://localhost:8080/",
          "height": 33
        },
        "outputId": "5e8e043d-f05a-4f67-f9f4-b3e9e3dd44f5"
      },
      "source": [
        "from google.colab import drive\n",
        "drive.mount('/content/gdrive')"
      ],
      "execution_count": 2,
      "outputs": [
        {
          "output_type": "stream",
          "text": [
            "Drive already mounted at /content/gdrive; to attempt to forcibly remount, call drive.mount(\"/content/gdrive\", force_remount=True).\n"
          ],
          "name": "stdout"
        }
      ]
    },
    {
      "cell_type": "code",
      "metadata": {
        "id": "Pk1vp4AX58gD",
        "colab_type": "code",
        "colab": {
          "base_uri": "https://localhost:8080/",
          "height": 35
        },
        "outputId": "6eb9e604-98d1-4d6a-af17-1cd508fa4eb0"
      },
      "source": [
        "import os\n",
        "os.chdir(\"/content/gdrive/My Drive/Colab Notebooks/garbage project/garbage dataset/Garbage classification/Garbage classification\")\n",
        "os.getcwd()"
      ],
      "execution_count": 3,
      "outputs": [
        {
          "output_type": "execute_result",
          "data": {
            "application/vnd.google.colaboratory.intrinsic+json": {
              "type": "string"
            },
            "text/plain": [
              "'/content/gdrive/My Drive/Colab Notebooks/garbage project/garbage dataset/Garbage classification/Garbage classification'"
            ]
          },
          "metadata": {
            "tags": []
          },
          "execution_count": 3
        }
      ]
    },
    {
      "cell_type": "code",
      "metadata": {
        "id": "-7xRTkjx58lC",
        "colab_type": "code",
        "colab": {
          "base_uri": "https://localhost:8080/",
          "height": 33
        },
        "outputId": "316e2074-ced1-4268-c9bb-d0ba09ac862d"
      },
      "source": [
        "import numpy as np\n",
        "import cv2\n",
        "from keras.callbacks import ModelCheckpoint,EarlyStopping\n",
        "from keras.layers import Conv2D, Flatten, MaxPooling2D,Dense,Dropout,SpatialDropout2D\n",
        "from keras.models  import Sequential\n",
        "from keras.preprocessing.image import ImageDataGenerator, img_to_array, load_img, array_to_img\n",
        "import random,os,glob\n",
        "import matplotlib.pyplot as plt"
      ],
      "execution_count": 4,
      "outputs": [
        {
          "output_type": "stream",
          "text": [
            "Using TensorFlow backend.\n"
          ],
          "name": "stderr"
        }
      ]
    },
    {
      "cell_type": "code",
      "metadata": {
        "id": "ASZ6IDmP58nI",
        "colab_type": "code",
        "colab": {}
      },
      "source": [
        "dir_path =\"/content/gdrive/My Drive/Colab Notebooks/garbage project/garbage dataset/Garbage classification/Garbage classification\""
      ],
      "execution_count": 5,
      "outputs": []
    },
    {
      "cell_type": "code",
      "metadata": {
        "id": "kKlJol6i_IUm",
        "colab_type": "code",
        "colab": {}
      },
      "source": [
        "img_list = glob.glob(os.path.join(dir_path, '*/*.jpg'))"
      ],
      "execution_count": 6,
      "outputs": []
    },
    {
      "cell_type": "code",
      "metadata": {
        "id": "bg43IxWu_Ibr",
        "colab_type": "code",
        "colab": {
          "base_uri": "https://localhost:8080/",
          "height": 33
        },
        "outputId": "7457246b-f882-4b1f-fe5a-093adfea4981"
      },
      "source": [
        "len(img_list)"
      ],
      "execution_count": 7,
      "outputs": [
        {
          "output_type": "execute_result",
          "data": {
            "text/plain": [
              "2529"
            ]
          },
          "metadata": {
            "tags": []
          },
          "execution_count": 7
        }
      ]
    },
    {
      "cell_type": "code",
      "metadata": {
        "id": "TuGBgrCi_RAx",
        "colab_type": "code",
        "colab": {}
      },
      "source": [
        ""
      ],
      "execution_count": 7,
      "outputs": []
    },
    {
      "cell_type": "code",
      "metadata": {
        "id": "1OVwENu058pj",
        "colab_type": "code",
        "colab": {}
      },
      "source": [
        "train=ImageDataGenerator(horizontal_flip=True,\n",
        "                         vertical_flip=True,\n",
        "                         validation_split=0.1,\n",
        "                         rescale=1./255,\n",
        "                         shear_range = 0.1,\n",
        "                         zoom_range = 0.1,\n",
        "                         width_shift_range = 0.1,\n",
        "                         height_shift_range = 0.1,)"
      ],
      "execution_count": 8,
      "outputs": []
    },
    {
      "cell_type": "code",
      "metadata": {
        "id": "L6Laj5oq58sk",
        "colab_type": "code",
        "colab": {}
      },
      "source": [
        "test=ImageDataGenerator(rescale=1/255,\n",
        "                        validation_split=0.1)"
      ],
      "execution_count": 9,
      "outputs": []
    },
    {
      "cell_type": "code",
      "metadata": {
        "id": "1hphp9bF58u9",
        "colab_type": "code",
        "colab": {
          "base_uri": "https://localhost:8080/",
          "height": 33
        },
        "outputId": "823b51aa-189e-425d-9d0d-a12d71c529c4"
      },
      "source": [
        "train_generator=train.flow_from_directory(dir_path,\n",
        "                                          target_size=(32,32),\n",
        "                                          batch_size=32,\n",
        "                                          class_mode='categorical',\n",
        "                                          subset='training')"
      ],
      "execution_count": 10,
      "outputs": [
        {
          "output_type": "stream",
          "text": [
            "Found 2278 images belonging to 6 classes.\n"
          ],
          "name": "stdout"
        }
      ]
    },
    {
      "cell_type": "code",
      "metadata": {
        "id": "6XZsf-1T8NTw",
        "colab_type": "code",
        "colab": {
          "base_uri": "https://localhost:8080/",
          "height": 33
        },
        "outputId": "6850954d-d687-4a72-cd7d-0f656c08034c"
      },
      "source": [
        "test_generator=test.flow_from_directory(dir_path,\n",
        "                                        target_size=(32,32),\n",
        "                                        batch_size=32,\n",
        "                                        class_mode='categorical',\n",
        "                                        subset='validation')"
      ],
      "execution_count": 11,
      "outputs": [
        {
          "output_type": "stream",
          "text": [
            "Found 251 images belonging to 6 classes.\n"
          ],
          "name": "stdout"
        }
      ]
    },
    {
      "cell_type": "code",
      "metadata": {
        "id": "nIWzu1v2ON3p",
        "colab_type": "code",
        "colab": {
          "base_uri": "https://localhost:8080/",
          "height": 33
        },
        "outputId": "6da04d7b-22ba-4176-e083-1472b2d2f2a9"
      },
      "source": [
        "labels = (train_generator.class_indices)\n",
        "print(labels)"
      ],
      "execution_count": 12,
      "outputs": [
        {
          "output_type": "stream",
          "text": [
            "{'cardboard': 0, 'glass': 1, 'metal': 2, 'paper': 3, 'plastic': 4, 'trash': 5}\n"
          ],
          "name": "stdout"
        }
      ]
    },
    {
      "cell_type": "code",
      "metadata": {
        "id": "5xrSHun38NZy",
        "colab_type": "code",
        "colab": {
          "base_uri": "https://localhost:8080/",
          "height": 33
        },
        "outputId": "fe356eb9-9e1b-481a-e34b-4d92e1e266af"
      },
      "source": [
        "labels = dict((v,k) for k,v in labels.items())\n",
        "print(labels)"
      ],
      "execution_count": 13,
      "outputs": [
        {
          "output_type": "stream",
          "text": [
            "{0: 'cardboard', 1: 'glass', 2: 'metal', 3: 'paper', 4: 'plastic', 5: 'trash'}\n"
          ],
          "name": "stdout"
        }
      ]
    },
    {
      "cell_type": "code",
      "metadata": {
        "id": "PEqN5ndL8Njn",
        "colab_type": "code",
        "colab": {
          "base_uri": "https://localhost:8080/",
          "height": 33
        },
        "outputId": "657cfd77-d9a5-4c2e-9cc6-cfdf0e240b78"
      },
      "source": [
        "for image_batch, label_batch in train_generator:\n",
        "  break\n",
        "image_batch.shape, label_batch.shape"
      ],
      "execution_count": 14,
      "outputs": [
        {
          "output_type": "execute_result",
          "data": {
            "text/plain": [
              "((32, 32, 32, 3), (32, 6))"
            ]
          },
          "metadata": {
            "tags": []
          },
          "execution_count": 14
        }
      ]
    },
    {
      "cell_type": "code",
      "metadata": {
        "id": "XYG7Ye54_qWK",
        "colab_type": "code",
        "colab": {}
      },
      "source": [
        ""
      ],
      "execution_count": null,
      "outputs": []
    },
    {
      "cell_type": "code",
      "metadata": {
        "id": "UP8pOzu9_tjT",
        "colab_type": "code",
        "colab": {
          "base_uri": "https://localhost:8080/",
          "height": 33
        },
        "outputId": "65be50c8-4999-43c6-86e2-a84469be1671"
      },
      "source": [
        "print (train_generator.class_indices)\n",
        "\n",
        "Labels = '\\n'.join(sorted(train_generator.class_indices.keys()))\n",
        "\n",
        "with open('labels.txt', 'w') as f:\n",
        "  f.write(Labels)"
      ],
      "execution_count": 15,
      "outputs": [
        {
          "output_type": "stream",
          "text": [
            "{'cardboard': 0, 'glass': 1, 'metal': 2, 'paper': 3, 'plastic': 4, 'trash': 5}\n"
          ],
          "name": "stdout"
        }
      ]
    },
    {
      "cell_type": "code",
      "metadata": {
        "id": "f7vOfo1z8No1",
        "colab_type": "code",
        "colab": {}
      },
      "source": [
        "model=Sequential()\n",
        "#Convolution blocks\n",
        "\n",
        "model.add(Conv2D(32,(3,3), padding='same',input_shape=(32,32,3),activation='relu'))\n",
        "model.add(MaxPooling2D(pool_size=2)) \n",
        "#model.add(SpatialDropout2D(0.5)) # No accuracy\n",
        "\n",
        "model.add(Conv2D(64,(3,3), padding='same',activation='relu'))\n",
        "model.add(MaxPooling2D(pool_size=2)) \n",
        "#model.add(SpatialDropout2D(0.5))\n",
        "\n",
        "model.add(Conv2D(32,(3,3), padding='same',activation='relu'))\n",
        "model.add(MaxPooling2D(pool_size=2)) \n",
        "\n",
        "#Classification layers\n",
        "model.add(Flatten())\n",
        "\n",
        "model.add(Dense(32,activation='relu'))\n",
        "#model.add(SpatialDropout2D(0.5))\n",
        "model.add(Dropout(0.2))\n",
        "model.add(Dense(32,activation='relu'))\n",
        "\n",
        "model.add(Dropout(0.2))\n",
        "model.add(Dense(6,activation='softmax'))\n",
        "\n",
        "filepath=\"trained_model.h5\"\n",
        "checkpoint1 = ModelCheckpoint(filepath, monitor='val_acc', verbose=1, save_best_only=True, mode='max')\n",
        "callbacks_list = [checkpoint1]"
      ],
      "execution_count": 16,
      "outputs": []
    },
    {
      "cell_type": "code",
      "metadata": {
        "id": "k4h3Pj7K8Ny6",
        "colab_type": "code",
        "colab": {
          "base_uri": "https://localhost:8080/",
          "height": 552
        },
        "outputId": "059754c9-0646-45e7-cdd9-3948407f24dd"
      },
      "source": [
        "model.summary()"
      ],
      "execution_count": 17,
      "outputs": [
        {
          "output_type": "stream",
          "text": [
            "Model: \"sequential_1\"\n",
            "_________________________________________________________________\n",
            "Layer (type)                 Output Shape              Param #   \n",
            "=================================================================\n",
            "conv2d_1 (Conv2D)            (None, 32, 32, 32)        896       \n",
            "_________________________________________________________________\n",
            "max_pooling2d_1 (MaxPooling2 (None, 16, 16, 32)        0         \n",
            "_________________________________________________________________\n",
            "conv2d_2 (Conv2D)            (None, 16, 16, 64)        18496     \n",
            "_________________________________________________________________\n",
            "max_pooling2d_2 (MaxPooling2 (None, 8, 8, 64)          0         \n",
            "_________________________________________________________________\n",
            "conv2d_3 (Conv2D)            (None, 8, 8, 32)          18464     \n",
            "_________________________________________________________________\n",
            "max_pooling2d_3 (MaxPooling2 (None, 4, 4, 32)          0         \n",
            "_________________________________________________________________\n",
            "flatten_1 (Flatten)          (None, 512)               0         \n",
            "_________________________________________________________________\n",
            "dense_1 (Dense)              (None, 32)                16416     \n",
            "_________________________________________________________________\n",
            "dropout_1 (Dropout)          (None, 32)                0         \n",
            "_________________________________________________________________\n",
            "dense_2 (Dense)              (None, 32)                1056      \n",
            "_________________________________________________________________\n",
            "dropout_2 (Dropout)          (None, 32)                0         \n",
            "_________________________________________________________________\n",
            "dense_3 (Dense)              (None, 6)                 198       \n",
            "=================================================================\n",
            "Total params: 55,526\n",
            "Trainable params: 55,526\n",
            "Non-trainable params: 0\n",
            "_________________________________________________________________\n"
          ],
          "name": "stdout"
        }
      ]
    },
    {
      "cell_type": "code",
      "metadata": {
        "id": "9fPbcP2__9t-",
        "colab_type": "code",
        "colab": {}
      },
      "source": [
        "model.compile(loss='categorical_crossentropy',\n",
        "              optimizer='adam',\n",
        "              metrics=['acc']) # RMS PROP - No accuracy\n",
        "\n",
        "#es=EarlyStopping(monitor='val_loss', mode='min', verbose=1, patience=50)"
      ],
      "execution_count": 18,
      "outputs": []
    },
    {
      "cell_type": "code",
      "metadata": {
        "id": "dVphM_7z8N1e",
        "colab_type": "code",
        "colab": {
          "base_uri": "https://localhost:8080/",
          "height": 1000
        },
        "outputId": "0dd2fc7e-0152-467c-f710-27c6a18e16da"
      },
      "source": [
        "history = model.fit_generator(train_generator,\n",
        "                              epochs=100,\n",
        "                              steps_per_epoch=2276//32,\n",
        "                              validation_data=test_generator,\n",
        "                              validation_steps=251//32,\n",
        "                              workers = 4,\n",
        "                              callbacks=callbacks_list) \n",
        "#41 epoch - 75% #73- 76.9%\n",
        "#78 epoch - 80%"
      ],
      "execution_count": 19,
      "outputs": [
        {
          "output_type": "stream",
          "text": [
            "Epoch 1/100\n",
            "71/71 [==============================] - 12s 171ms/step - loss: 1.7472 - acc: 0.2235 - val_loss: 1.7102 - val_acc: 0.2277\n",
            "\n",
            "Epoch 00001: val_acc improved from -inf to 0.22768, saving model to trained_model.h5\n",
            "Epoch 2/100\n",
            "71/71 [==============================] - 11s 152ms/step - loss: 1.7107 - acc: 0.2244 - val_loss: 1.5938 - val_acc: 0.2466\n",
            "\n",
            "Epoch 00002: val_acc improved from 0.22768 to 0.24658, saving model to trained_model.h5\n",
            "Epoch 3/100\n",
            "71/71 [==============================] - 11s 152ms/step - loss: 1.6487 - acc: 0.2876 - val_loss: 1.6623 - val_acc: 0.2603\n",
            "\n",
            "Epoch 00003: val_acc improved from 0.24658 to 0.26027, saving model to trained_model.h5\n",
            "Epoch 4/100\n",
            "71/71 [==============================] - 10s 148ms/step - loss: 1.5523 - acc: 0.3571 - val_loss: 1.5017 - val_acc: 0.2740\n",
            "\n",
            "Epoch 00004: val_acc improved from 0.26027 to 0.27397, saving model to trained_model.h5\n",
            "Epoch 5/100\n",
            "71/71 [==============================] - 10s 148ms/step - loss: 1.4659 - acc: 0.3954 - val_loss: 1.4949 - val_acc: 0.3607\n",
            "\n",
            "Epoch 00005: val_acc improved from 0.27397 to 0.36073, saving model to trained_model.h5\n",
            "Epoch 6/100\n",
            "71/71 [==============================] - 11s 150ms/step - loss: 1.4220 - acc: 0.4159 - val_loss: 1.4949 - val_acc: 0.3288\n",
            "\n",
            "Epoch 00006: val_acc did not improve from 0.36073\n",
            "Epoch 7/100\n",
            "71/71 [==============================] - 11s 151ms/step - loss: 1.4160 - acc: 0.4107 - val_loss: 1.8633 - val_acc: 0.3333\n",
            "\n",
            "Epoch 00007: val_acc did not improve from 0.36073\n",
            "Epoch 8/100\n",
            "71/71 [==============================] - 10s 139ms/step - loss: 1.3738 - acc: 0.4324 - val_loss: 1.6158 - val_acc: 0.4475\n",
            "\n",
            "Epoch 00008: val_acc improved from 0.36073 to 0.44749, saving model to trained_model.h5\n",
            "Epoch 9/100\n",
            "71/71 [==============================] - 10s 148ms/step - loss: 1.3823 - acc: 0.4368 - val_loss: 1.4347 - val_acc: 0.4464\n",
            "\n",
            "Epoch 00009: val_acc did not improve from 0.44749\n",
            "Epoch 10/100\n",
            "71/71 [==============================] - 12s 163ms/step - loss: 1.3202 - acc: 0.4639 - val_loss: 1.2803 - val_acc: 0.4338\n",
            "\n",
            "Epoch 00010: val_acc did not improve from 0.44749\n",
            "Epoch 11/100\n",
            "71/71 [==============================] - 11s 150ms/step - loss: 1.3111 - acc: 0.4804 - val_loss: 1.5526 - val_acc: 0.4247\n",
            "\n",
            "Epoch 00011: val_acc did not improve from 0.44749\n",
            "Epoch 12/100\n",
            "71/71 [==============================] - 11s 151ms/step - loss: 1.2899 - acc: 0.4902 - val_loss: 1.6684 - val_acc: 0.3881\n",
            "\n",
            "Epoch 00012: val_acc did not improve from 0.44749\n",
            "Epoch 13/100\n",
            "71/71 [==============================] - 11s 156ms/step - loss: 1.2626 - acc: 0.5120 - val_loss: 1.3265 - val_acc: 0.4110\n",
            "\n",
            "Epoch 00013: val_acc did not improve from 0.44749\n",
            "Epoch 14/100\n",
            "71/71 [==============================] - 11s 157ms/step - loss: 1.2497 - acc: 0.5045 - val_loss: 1.1885 - val_acc: 0.4566\n",
            "\n",
            "Epoch 00014: val_acc improved from 0.44749 to 0.45662, saving model to trained_model.h5\n",
            "Epoch 15/100\n",
            "71/71 [==============================] - 11s 153ms/step - loss: 1.2459 - acc: 0.5045 - val_loss: 1.5827 - val_acc: 0.4384\n",
            "\n",
            "Epoch 00015: val_acc did not improve from 0.45662\n",
            "Epoch 16/100\n",
            "71/71 [==============================] - 10s 142ms/step - loss: 1.1838 - acc: 0.5232 - val_loss: 1.3096 - val_acc: 0.5205\n",
            "\n",
            "Epoch 00016: val_acc improved from 0.45662 to 0.52055, saving model to trained_model.h5\n",
            "Epoch 17/100\n",
            "71/71 [==============================] - 11s 151ms/step - loss: 1.1934 - acc: 0.5242 - val_loss: 1.0042 - val_acc: 0.5223\n",
            "\n",
            "Epoch 00017: val_acc improved from 0.52055 to 0.52232, saving model to trained_model.h5\n",
            "Epoch 18/100\n",
            "71/71 [==============================] - 12s 167ms/step - loss: 1.1514 - acc: 0.5563 - val_loss: 1.2814 - val_acc: 0.5068\n",
            "\n",
            "Epoch 00018: val_acc did not improve from 0.52232\n",
            "Epoch 19/100\n",
            "71/71 [==============================] - 11s 154ms/step - loss: 1.1715 - acc: 0.5490 - val_loss: 1.1128 - val_acc: 0.5205\n",
            "\n",
            "Epoch 00019: val_acc did not improve from 0.52232\n",
            "Epoch 20/100\n",
            "71/71 [==============================] - 10s 142ms/step - loss: 1.1495 - acc: 0.5561 - val_loss: 1.0635 - val_acc: 0.5023\n",
            "\n",
            "Epoch 00020: val_acc did not improve from 0.52232\n",
            "Epoch 21/100\n",
            "71/71 [==============================] - 11s 157ms/step - loss: 1.1355 - acc: 0.5731 - val_loss: 1.0603 - val_acc: 0.5434\n",
            "\n",
            "Epoch 00021: val_acc improved from 0.52232 to 0.54338, saving model to trained_model.h5\n",
            "Epoch 22/100\n",
            "71/71 [==============================] - 11s 153ms/step - loss: 1.1351 - acc: 0.5667 - val_loss: 1.2395 - val_acc: 0.5068\n",
            "\n",
            "Epoch 00022: val_acc did not improve from 0.54338\n",
            "Epoch 23/100\n",
            "71/71 [==============================] - 11s 154ms/step - loss: 1.0800 - acc: 0.5757 - val_loss: 1.2348 - val_acc: 0.5251\n",
            "\n",
            "Epoch 00023: val_acc did not improve from 0.54338\n",
            "Epoch 24/100\n",
            "71/71 [==============================] - 10s 144ms/step - loss: 1.0824 - acc: 0.5863 - val_loss: 1.1822 - val_acc: 0.5251\n",
            "\n",
            "Epoch 00024: val_acc did not improve from 0.54338\n",
            "Epoch 25/100\n",
            "71/71 [==============================] - 11s 153ms/step - loss: 1.1054 - acc: 0.5757 - val_loss: 1.1673 - val_acc: 0.5089\n",
            "\n",
            "Epoch 00025: val_acc did not improve from 0.54338\n",
            "Epoch 26/100\n",
            "71/71 [==============================] - 12s 167ms/step - loss: 1.0412 - acc: 0.5938 - val_loss: 1.2019 - val_acc: 0.5616\n",
            "\n",
            "Epoch 00026: val_acc improved from 0.54338 to 0.56164, saving model to trained_model.h5\n",
            "Epoch 27/100\n",
            "71/71 [==============================] - 10s 147ms/step - loss: 1.0652 - acc: 0.5910 - val_loss: 1.3171 - val_acc: 0.4703\n",
            "\n",
            "Epoch 00027: val_acc did not improve from 0.56164\n",
            "Epoch 28/100\n",
            "71/71 [==============================] - 10s 146ms/step - loss: 1.0389 - acc: 0.6060 - val_loss: 1.0989 - val_acc: 0.6073\n",
            "\n",
            "Epoch 00028: val_acc improved from 0.56164 to 0.60731, saving model to trained_model.h5\n",
            "Epoch 29/100\n",
            "71/71 [==============================] - 11s 150ms/step - loss: 1.0611 - acc: 0.5957 - val_loss: 1.2663 - val_acc: 0.5023\n",
            "\n",
            "Epoch 00029: val_acc did not improve from 0.60731\n",
            "Epoch 30/100\n",
            "71/71 [==============================] - 11s 154ms/step - loss: 1.0064 - acc: 0.6135 - val_loss: 1.7989 - val_acc: 0.4932\n",
            "\n",
            "Epoch 00030: val_acc did not improve from 0.60731\n",
            "Epoch 31/100\n",
            "71/71 [==============================] - 11s 149ms/step - loss: 1.0621 - acc: 0.6073 - val_loss: 1.2380 - val_acc: 0.6073\n",
            "\n",
            "Epoch 00031: val_acc did not improve from 0.60731\n",
            "Epoch 32/100\n",
            "71/71 [==============================] - 10s 140ms/step - loss: 0.9531 - acc: 0.6385 - val_loss: 0.7599 - val_acc: 0.5936\n",
            "\n",
            "Epoch 00032: val_acc did not improve from 0.60731\n",
            "Epoch 33/100\n",
            "71/71 [==============================] - 11s 156ms/step - loss: 0.9895 - acc: 0.6207 - val_loss: 1.3455 - val_acc: 0.5670\n",
            "\n",
            "Epoch 00033: val_acc did not improve from 0.60731\n",
            "Epoch 34/100\n",
            "71/71 [==============================] - 12s 165ms/step - loss: 0.9983 - acc: 0.6171 - val_loss: 0.9023 - val_acc: 0.6073\n",
            "\n",
            "Epoch 00034: val_acc did not improve from 0.60731\n",
            "Epoch 35/100\n",
            "71/71 [==============================] - 11s 152ms/step - loss: 0.9931 - acc: 0.6365 - val_loss: 1.2259 - val_acc: 0.4977\n",
            "\n",
            "Epoch 00035: val_acc did not improve from 0.60731\n",
            "Epoch 36/100\n",
            "71/71 [==============================] - 11s 155ms/step - loss: 0.9243 - acc: 0.6607 - val_loss: 1.1625 - val_acc: 0.5571\n",
            "\n",
            "Epoch 00036: val_acc did not improve from 0.60731\n",
            "Epoch 37/100\n",
            "71/71 [==============================] - 12s 162ms/step - loss: 0.9307 - acc: 0.6496 - val_loss: 1.1186 - val_acc: 0.6164\n",
            "\n",
            "Epoch 00037: val_acc improved from 0.60731 to 0.61644, saving model to trained_model.h5\n",
            "Epoch 38/100\n",
            "71/71 [==============================] - 11s 160ms/step - loss: 0.9430 - acc: 0.6540 - val_loss: 1.1252 - val_acc: 0.5936\n",
            "\n",
            "Epoch 00038: val_acc did not improve from 0.61644\n",
            "Epoch 39/100\n",
            "71/71 [==============================] - 12s 164ms/step - loss: 0.9102 - acc: 0.6670 - val_loss: 1.5903 - val_acc: 0.5251\n",
            "\n",
            "Epoch 00039: val_acc did not improve from 0.61644\n",
            "Epoch 40/100\n",
            "71/71 [==============================] - 10s 144ms/step - loss: 0.8942 - acc: 0.6763 - val_loss: 1.3859 - val_acc: 0.6347\n",
            "\n",
            "Epoch 00040: val_acc improved from 0.61644 to 0.63470, saving model to trained_model.h5\n",
            "Epoch 41/100\n",
            "71/71 [==============================] - 11s 159ms/step - loss: 0.9265 - acc: 0.6581 - val_loss: 1.1283 - val_acc: 0.5446\n",
            "\n",
            "Epoch 00041: val_acc did not improve from 0.63470\n",
            "Epoch 42/100\n",
            "71/71 [==============================] - 13s 181ms/step - loss: 0.8989 - acc: 0.6554 - val_loss: 1.0724 - val_acc: 0.5982\n",
            "\n",
            "Epoch 00042: val_acc did not improve from 0.63470\n",
            "Epoch 43/100\n",
            "71/71 [==============================] - 12s 162ms/step - loss: 0.9080 - acc: 0.6611 - val_loss: 1.0903 - val_acc: 0.6530\n",
            "\n",
            "Epoch 00043: val_acc improved from 0.63470 to 0.65297, saving model to trained_model.h5\n",
            "Epoch 44/100\n",
            "71/71 [==============================] - 10s 143ms/step - loss: 0.9075 - acc: 0.6621 - val_loss: 1.1563 - val_acc: 0.5251\n",
            "\n",
            "Epoch 00044: val_acc did not improve from 0.65297\n",
            "Epoch 45/100\n",
            "71/71 [==============================] - 11s 157ms/step - loss: 0.9123 - acc: 0.6635 - val_loss: 0.6566 - val_acc: 0.6256\n",
            "\n",
            "Epoch 00045: val_acc did not improve from 0.65297\n",
            "Epoch 46/100\n",
            "71/71 [==============================] - 11s 155ms/step - loss: 0.8904 - acc: 0.6844 - val_loss: 1.0814 - val_acc: 0.5753\n",
            "\n",
            "Epoch 00046: val_acc did not improve from 0.65297\n",
            "Epoch 47/100\n",
            "71/71 [==============================] - 10s 147ms/step - loss: 0.8488 - acc: 0.6806 - val_loss: 1.0161 - val_acc: 0.5753\n",
            "\n",
            "Epoch 00047: val_acc did not improve from 0.65297\n",
            "Epoch 48/100\n",
            "71/71 [==============================] - 10s 142ms/step - loss: 0.8520 - acc: 0.6866 - val_loss: 1.2779 - val_acc: 0.5845\n",
            "\n",
            "Epoch 00048: val_acc did not improve from 0.65297\n",
            "Epoch 49/100\n",
            "71/71 [==============================] - 11s 155ms/step - loss: 0.8348 - acc: 0.7000 - val_loss: 0.8904 - val_acc: 0.5982\n",
            "\n",
            "Epoch 00049: val_acc did not improve from 0.65297\n",
            "Epoch 50/100\n",
            "71/71 [==============================] - 12s 170ms/step - loss: 0.8640 - acc: 0.6734 - val_loss: 1.1950 - val_acc: 0.5753\n",
            "\n",
            "Epoch 00050: val_acc did not improve from 0.65297\n",
            "Epoch 51/100\n",
            "71/71 [==============================] - 11s 155ms/step - loss: 0.8456 - acc: 0.6834 - val_loss: 0.8069 - val_acc: 0.6210\n",
            "\n",
            "Epoch 00051: val_acc did not improve from 0.65297\n",
            "Epoch 52/100\n",
            "71/71 [==============================] - 10s 142ms/step - loss: 0.8445 - acc: 0.6990 - val_loss: 0.9073 - val_acc: 0.6027\n",
            "\n",
            "Epoch 00052: val_acc did not improve from 0.65297\n",
            "Epoch 53/100\n",
            "71/71 [==============================] - 11s 154ms/step - loss: 0.8379 - acc: 0.6968 - val_loss: 1.1707 - val_acc: 0.5982\n",
            "\n",
            "Epoch 00053: val_acc did not improve from 0.65297\n",
            "Epoch 54/100\n",
            "71/71 [==============================] - 11s 153ms/step - loss: 0.8378 - acc: 0.6830 - val_loss: 1.0471 - val_acc: 0.6164\n",
            "\n",
            "Epoch 00054: val_acc did not improve from 0.65297\n",
            "Epoch 55/100\n",
            "71/71 [==============================] - 11s 151ms/step - loss: 0.8178 - acc: 0.7146 - val_loss: 0.7377 - val_acc: 0.6393\n",
            "\n",
            "Epoch 00055: val_acc did not improve from 0.65297\n",
            "Epoch 56/100\n",
            "71/71 [==============================] - 9s 133ms/step - loss: 0.8453 - acc: 0.6759 - val_loss: 0.6984 - val_acc: 0.5708\n",
            "\n",
            "Epoch 00056: val_acc did not improve from 0.65297\n",
            "Epoch 57/100\n",
            "71/71 [==============================] - 11s 154ms/step - loss: 0.8399 - acc: 0.6972 - val_loss: 1.2464 - val_acc: 0.6116\n",
            "\n",
            "Epoch 00057: val_acc did not improve from 0.65297\n",
            "Epoch 58/100\n",
            "71/71 [==============================] - 12s 167ms/step - loss: 0.8043 - acc: 0.7021 - val_loss: 1.2487 - val_acc: 0.6621\n",
            "\n",
            "Epoch 00058: val_acc improved from 0.65297 to 0.66210, saving model to trained_model.h5\n",
            "Epoch 59/100\n",
            "71/71 [==============================] - 11s 150ms/step - loss: 0.8039 - acc: 0.7017 - val_loss: 1.2314 - val_acc: 0.6256\n",
            "\n",
            "Epoch 00059: val_acc did not improve from 0.66210\n",
            "Epoch 60/100\n",
            "71/71 [==============================] - 10s 136ms/step - loss: 0.8152 - acc: 0.7213 - val_loss: 0.8117 - val_acc: 0.6347\n",
            "\n",
            "Epoch 00060: val_acc did not improve from 0.66210\n",
            "Epoch 61/100\n",
            "71/71 [==============================] - 11s 151ms/step - loss: 0.8038 - acc: 0.7039 - val_loss: 0.8090 - val_acc: 0.6575\n",
            "\n",
            "Epoch 00061: val_acc did not improve from 0.66210\n",
            "Epoch 62/100\n",
            "71/71 [==============================] - 11s 154ms/step - loss: 0.7703 - acc: 0.7244 - val_loss: 0.9839 - val_acc: 0.6575\n",
            "\n",
            "Epoch 00062: val_acc did not improve from 0.66210\n",
            "Epoch 63/100\n",
            "71/71 [==============================] - 11s 155ms/step - loss: 0.7553 - acc: 0.7168 - val_loss: 1.4016 - val_acc: 0.6073\n",
            "\n",
            "Epoch 00063: val_acc did not improve from 0.66210\n",
            "Epoch 64/100\n",
            "71/71 [==============================] - 10s 142ms/step - loss: 0.7974 - acc: 0.7182 - val_loss: 1.2805 - val_acc: 0.6347\n",
            "\n",
            "Epoch 00064: val_acc did not improve from 0.66210\n",
            "Epoch 65/100\n",
            "71/71 [==============================] - 11s 159ms/step - loss: 0.7923 - acc: 0.7150 - val_loss: 1.5741 - val_acc: 0.6473\n",
            "\n",
            "Epoch 00065: val_acc did not improve from 0.66210\n",
            "Epoch 66/100\n",
            "71/71 [==============================] - 12s 165ms/step - loss: 0.7904 - acc: 0.7012 - val_loss: 1.1088 - val_acc: 0.6256\n",
            "\n",
            "Epoch 00066: val_acc did not improve from 0.66210\n",
            "Epoch 67/100\n",
            "71/71 [==============================] - 11s 156ms/step - loss: 0.7634 - acc: 0.7186 - val_loss: 1.0459 - val_acc: 0.6393\n",
            "\n",
            "Epoch 00067: val_acc did not improve from 0.66210\n",
            "Epoch 68/100\n",
            "71/71 [==============================] - 10s 136ms/step - loss: 0.7532 - acc: 0.7337 - val_loss: 0.6314 - val_acc: 0.6621\n",
            "\n",
            "Epoch 00068: val_acc did not improve from 0.66210\n",
            "Epoch 69/100\n",
            "71/71 [==============================] - 11s 155ms/step - loss: 0.7711 - acc: 0.7266 - val_loss: 1.0111 - val_acc: 0.6575\n",
            "\n",
            "Epoch 00069: val_acc did not improve from 0.66210\n",
            "Epoch 70/100\n",
            "71/71 [==============================] - 11s 157ms/step - loss: 0.7874 - acc: 0.7182 - val_loss: 1.5988 - val_acc: 0.6027\n",
            "\n",
            "Epoch 00070: val_acc did not improve from 0.66210\n",
            "Epoch 71/100\n",
            "71/71 [==============================] - 11s 157ms/step - loss: 0.7474 - acc: 0.7311 - val_loss: 1.2150 - val_acc: 0.6119\n",
            "\n",
            "Epoch 00071: val_acc did not improve from 0.66210\n",
            "Epoch 72/100\n",
            "71/71 [==============================] - 10s 135ms/step - loss: 0.7108 - acc: 0.7400 - val_loss: 1.5368 - val_acc: 0.6347\n",
            "\n",
            "Epoch 00072: val_acc did not improve from 0.66210\n",
            "Epoch 73/100\n",
            "71/71 [==============================] - 11s 155ms/step - loss: 0.7221 - acc: 0.7431 - val_loss: 1.3891 - val_acc: 0.5938\n",
            "\n",
            "Epoch 00073: val_acc did not improve from 0.66210\n",
            "Epoch 74/100\n",
            "71/71 [==============================] - 11s 158ms/step - loss: 0.6846 - acc: 0.7511 - val_loss: 1.6927 - val_acc: 0.6484\n",
            "\n",
            "Epoch 00074: val_acc did not improve from 0.66210\n",
            "Epoch 75/100\n",
            "71/71 [==============================] - 11s 156ms/step - loss: 0.7255 - acc: 0.7360 - val_loss: 1.3340 - val_acc: 0.6621\n",
            "\n",
            "Epoch 00075: val_acc did not improve from 0.66210\n",
            "Epoch 76/100\n",
            "71/71 [==============================] - 10s 147ms/step - loss: 0.7218 - acc: 0.7351 - val_loss: 0.8994 - val_acc: 0.6393\n",
            "\n",
            "Epoch 00076: val_acc did not improve from 0.66210\n",
            "Epoch 77/100\n",
            "71/71 [==============================] - 11s 153ms/step - loss: 0.7366 - acc: 0.7337 - val_loss: 1.1227 - val_acc: 0.6301\n",
            "\n",
            "Epoch 00077: val_acc did not improve from 0.66210\n",
            "Epoch 78/100\n",
            "71/71 [==============================] - 11s 151ms/step - loss: 0.7252 - acc: 0.7382 - val_loss: 1.2671 - val_acc: 0.6119\n",
            "\n",
            "Epoch 00078: val_acc did not improve from 0.66210\n",
            "Epoch 79/100\n",
            "71/71 [==============================] - 10s 147ms/step - loss: 0.7344 - acc: 0.7257 - val_loss: 1.5797 - val_acc: 0.6393\n",
            "\n",
            "Epoch 00079: val_acc did not improve from 0.66210\n",
            "Epoch 80/100\n",
            "71/71 [==============================] - 10s 142ms/step - loss: 0.7182 - acc: 0.7498 - val_loss: 0.4441 - val_acc: 0.6393\n",
            "\n",
            "Epoch 00080: val_acc did not improve from 0.66210\n",
            "Epoch 81/100\n",
            "71/71 [==============================] - 11s 154ms/step - loss: 0.6765 - acc: 0.7509 - val_loss: 1.3507 - val_acc: 0.6429\n",
            "\n",
            "Epoch 00081: val_acc did not improve from 0.66210\n",
            "Epoch 82/100\n",
            "71/71 [==============================] - 11s 161ms/step - loss: 0.7275 - acc: 0.7401 - val_loss: 1.0753 - val_acc: 0.6119\n",
            "\n",
            "Epoch 00082: val_acc did not improve from 0.66210\n",
            "Epoch 83/100\n",
            "71/71 [==============================] - 10s 147ms/step - loss: 0.7598 - acc: 0.7284 - val_loss: 1.4856 - val_acc: 0.6530\n",
            "\n",
            "Epoch 00083: val_acc did not improve from 0.66210\n",
            "Epoch 84/100\n",
            "71/71 [==============================] - 10s 142ms/step - loss: 0.6798 - acc: 0.7658 - val_loss: 0.9843 - val_acc: 0.6530\n",
            "\n",
            "Epoch 00084: val_acc did not improve from 0.66210\n",
            "Epoch 85/100\n",
            "71/71 [==============================] - 11s 151ms/step - loss: 0.7020 - acc: 0.7516 - val_loss: 0.5359 - val_acc: 0.6621\n",
            "\n",
            "Epoch 00085: val_acc did not improve from 0.66210\n",
            "Epoch 86/100\n",
            "71/71 [==============================] - 11s 158ms/step - loss: 0.6821 - acc: 0.7511 - val_loss: 1.0526 - val_acc: 0.6164\n",
            "\n",
            "Epoch 00086: val_acc did not improve from 0.66210\n",
            "Epoch 87/100\n",
            "71/71 [==============================] - 11s 158ms/step - loss: 0.7039 - acc: 0.7413 - val_loss: 1.0782 - val_acc: 0.6667\n",
            "\n",
            "Epoch 00087: val_acc improved from 0.66210 to 0.66667, saving model to trained_model.h5\n",
            "Epoch 88/100\n",
            "71/71 [==============================] - 10s 144ms/step - loss: 0.6561 - acc: 0.7524 - val_loss: 1.0403 - val_acc: 0.6804\n",
            "\n",
            "Epoch 00088: val_acc improved from 0.66667 to 0.68037, saving model to trained_model.h5\n",
            "Epoch 89/100\n",
            "71/71 [==============================] - 11s 156ms/step - loss: 0.6797 - acc: 0.7584 - val_loss: 1.1724 - val_acc: 0.6696\n",
            "\n",
            "Epoch 00089: val_acc did not improve from 0.68037\n",
            "Epoch 90/100\n",
            "71/71 [==============================] - 12s 170ms/step - loss: 0.6718 - acc: 0.7527 - val_loss: 0.5215 - val_acc: 0.6712\n",
            "\n",
            "Epoch 00090: val_acc did not improve from 0.68037\n",
            "Epoch 91/100\n",
            "71/71 [==============================] - 11s 160ms/step - loss: 0.6636 - acc: 0.7606 - val_loss: 1.0950 - val_acc: 0.6347\n",
            "\n",
            "Epoch 00091: val_acc did not improve from 0.68037\n",
            "Epoch 92/100\n",
            "71/71 [==============================] - 11s 150ms/step - loss: 0.6745 - acc: 0.7541 - val_loss: 0.8446 - val_acc: 0.6210\n",
            "\n",
            "Epoch 00092: val_acc did not improve from 0.68037\n",
            "Epoch 93/100\n",
            "71/71 [==============================] - 12s 164ms/step - loss: 0.6938 - acc: 0.7524 - val_loss: 0.8930 - val_acc: 0.6667\n",
            "\n",
            "Epoch 00093: val_acc did not improve from 0.68037\n",
            "Epoch 94/100\n",
            "71/71 [==============================] - 11s 158ms/step - loss: 0.6522 - acc: 0.7694 - val_loss: 0.9937 - val_acc: 0.6301\n",
            "\n",
            "Epoch 00094: val_acc did not improve from 0.68037\n",
            "Epoch 95/100\n",
            "71/71 [==============================] - 11s 159ms/step - loss: 0.6883 - acc: 0.7610 - val_loss: 1.2149 - val_acc: 0.6530\n",
            "\n",
            "Epoch 00095: val_acc did not improve from 0.68037\n",
            "Epoch 96/100\n",
            "71/71 [==============================] - 10s 135ms/step - loss: 0.7531 - acc: 0.7216 - val_loss: 0.8444 - val_acc: 0.6804\n",
            "\n",
            "Epoch 00096: val_acc did not improve from 0.68037\n",
            "Epoch 97/100\n",
            "71/71 [==============================] - 11s 152ms/step - loss: 0.6054 - acc: 0.7845 - val_loss: 1.3809 - val_acc: 0.6964\n",
            "\n",
            "Epoch 00097: val_acc improved from 0.68037 to 0.69643, saving model to trained_model.h5\n",
            "Epoch 98/100\n",
            "71/71 [==============================] - 12s 166ms/step - loss: 0.6961 - acc: 0.7444 - val_loss: 0.7731 - val_acc: 0.6347\n",
            "\n",
            "Epoch 00098: val_acc did not improve from 0.69643\n",
            "Epoch 99/100\n",
            "71/71 [==============================] - 11s 157ms/step - loss: 0.6161 - acc: 0.7734 - val_loss: 0.7479 - val_acc: 0.7032\n",
            "\n",
            "Epoch 00099: val_acc improved from 0.69643 to 0.70320, saving model to trained_model.h5\n",
            "Epoch 100/100\n",
            "71/71 [==============================] - 10s 140ms/step - loss: 0.6893 - acc: 0.7498 - val_loss: 1.1430 - val_acc: 0.6210\n",
            "\n",
            "Epoch 00100: val_acc did not improve from 0.70320\n"
          ],
          "name": "stdout"
        }
      ]
    },
    {
      "cell_type": "code",
      "metadata": {
        "id": "STr1UqSNAHvM",
        "colab_type": "code",
        "colab": {}
      },
      "source": [
        "from keras.preprocessing import image\n",
        "\n",
        "img_path = '/content/gdrive/My Drive/Colab Notebooks/garbage project/garbage dataset/Garbage classification/Garbage classification/plastic/plastic75.jpg'\n",
        "\n",
        "\n",
        "img = image.load_img(img_path, target_size=(300, 300))\n",
        "img = image.img_to_array(img, dtype=np.uint8)\n",
        "img=np.array(img)/255.0\n",
        "\n",
        "plt.title(\"Loaded Image\")\n",
        "plt.axis('off')\n",
        "plt.imshow(img.squeeze())\n",
        "\n",
        "p=model.predict(img[np.newaxis, ...])\n",
        "\n",
        "#print(\"Predicted shape\",p.shape)\n",
        "print(\"Maximum Probability: \",np.max(p[0], axis=-1))\n",
        "predicted_class = labels[np.argmax(p[0], axis=-1)]\n",
        "print(\"Classified:\",predicted_class)"
      ],
      "execution_count": null,
      "outputs": []
    },
    {
      "cell_type": "code",
      "metadata": {
        "id": "8StJZNKHAHro",
        "colab_type": "code",
        "colab": {}
      },
      "source": [
        ""
      ],
      "execution_count": null,
      "outputs": []
    },
    {
      "cell_type": "code",
      "metadata": {
        "id": "oe5vybz_AHof",
        "colab_type": "code",
        "colab": {}
      },
      "source": [
        "classes=[]\n",
        "prob=[]\n",
        "print(\"\\n-------------------Individual Probability--------------------------------\\n\")\n",
        "\n",
        "for i,j in enumerate (p[0],0):\n",
        "    print(labels[i].upper(),':',round(j*100,2),'%')\n",
        "    classes.append(labels[i])\n",
        "    prob.append(round(j*100,2))\n",
        "    \n",
        "def plot_bar_x():\n",
        "    # this is for plotting purpose\n",
        "    index = np.arange(len(classes))\n",
        "    plt.bar(index, prob)\n",
        "    plt.xlabel('Labels', fontsize=12)\n",
        "    plt.ylabel('Probability', fontsize=12)\n",
        "    plt.xticks(index, classes, fontsize=12, rotation=20)\n",
        "    plt.title('Probability for loaded image')\n",
        "    plt.show()\n",
        "plot_bar_x()"
      ],
      "execution_count": null,
      "outputs": []
    },
    {
      "cell_type": "code",
      "metadata": {
        "id": "WMz3BSlwAHla",
        "colab_type": "code",
        "colab": {}
      },
      "source": [
        ""
      ],
      "execution_count": null,
      "outputs": []
    },
    {
      "cell_type": "code",
      "metadata": {
        "id": "Rp4luD-x8N6b",
        "colab_type": "code",
        "colab": {}
      },
      "source": [
        "acc = history.history['acc']\n",
        "val_acc = history.history['val_acc']\n",
        "\n",
        "loss = history.history['loss']\n",
        "val_loss = history.history['val_loss']\n",
        "\n",
        "# ________________ Graph 1 -------------------------\n",
        "\n",
        "plt.figure(figsize=(8, 8))\n",
        "plt.subplot(2, 1, 1)\n",
        "plt.plot(acc, label='Training Accuracy')\n",
        "plt.plot(val_acc, label='Validation Accuracy')\n",
        "plt.legend(loc='lower right')\n",
        "plt.ylabel('Accuracy')\n",
        "plt.ylim([min(plt.ylim()),1])\n",
        "plt.title('Training and Validation Accuracy')\n",
        "\n",
        "# ________________ Graph 2 -------------------------\n",
        "\n",
        "plt.subplot(2, 1, 2)\n",
        "plt.plot(loss, label='Training Loss')\n",
        "plt.plot(val_loss, label='Validation Loss')\n",
        "plt.legend(loc='upper right')\n",
        "plt.ylabel('Cross Entropy')\n",
        "plt.ylim([0,max(plt.ylim())])\n",
        "plt.title('Training and Validation Loss')\n",
        "plt.show()"
      ],
      "execution_count": null,
      "outputs": []
    },
    {
      "cell_type": "code",
      "metadata": {
        "id": "PBPZFcAV8OEA",
        "colab_type": "code",
        "colab": {}
      },
      "source": [
        ""
      ],
      "execution_count": null,
      "outputs": []
    },
    {
      "cell_type": "code",
      "metadata": {
        "id": "LtHUoB608OI9",
        "colab_type": "code",
        "colab": {}
      },
      "source": [
        "import tensorflow as tf\n",
        "import keras"
      ],
      "execution_count": null,
      "outputs": []
    },
    {
      "cell_type": "code",
      "metadata": {
        "id": "04Xt-GjU8OL5",
        "colab_type": "code",
        "colab": {}
      },
      "source": [
        "keras.models.save_model(model,'final_model.hdf5')"
      ],
      "execution_count": null,
      "outputs": []
    },
    {
      "cell_type": "code",
      "metadata": {
        "id": "c0JQflJc8OXs",
        "colab_type": "code",
        "colab": {}
      },
      "source": [
        "from IPython.display import FileLinks\n",
        "FileLinks('.')"
      ],
      "execution_count": null,
      "outputs": []
    },
    {
      "cell_type": "code",
      "metadata": {
        "id": "Taqp_xya8Ofi",
        "colab_type": "code",
        "colab": {}
      },
      "source": [
        ""
      ],
      "execution_count": null,
      "outputs": []
    },
    {
      "cell_type": "code",
      "metadata": {
        "id": "4_xRn1EK8Ooe",
        "colab_type": "code",
        "colab": {}
      },
      "source": [
        ""
      ],
      "execution_count": null,
      "outputs": []
    },
    {
      "cell_type": "code",
      "metadata": {
        "id": "Lj1V2uYY8Ote",
        "colab_type": "code",
        "colab": {}
      },
      "source": [
        ""
      ],
      "execution_count": null,
      "outputs": []
    },
    {
      "cell_type": "code",
      "metadata": {
        "id": "JOcVyYWg8Oyt",
        "colab_type": "code",
        "colab": {}
      },
      "source": [
        ""
      ],
      "execution_count": null,
      "outputs": []
    },
    {
      "cell_type": "code",
      "metadata": {
        "id": "OEkEgQJU8O6y",
        "colab_type": "code",
        "colab": {}
      },
      "source": [
        ""
      ],
      "execution_count": null,
      "outputs": []
    },
    {
      "cell_type": "code",
      "metadata": {
        "id": "WWPd9wOO8O-C",
        "colab_type": "code",
        "colab": {}
      },
      "source": [
        ""
      ],
      "execution_count": null,
      "outputs": []
    },
    {
      "cell_type": "code",
      "metadata": {
        "id": "Fiksibqp8PAV",
        "colab_type": "code",
        "colab": {}
      },
      "source": [
        ""
      ],
      "execution_count": null,
      "outputs": []
    },
    {
      "cell_type": "code",
      "metadata": {
        "id": "GZVfvABl8Qzt",
        "colab_type": "code",
        "colab": {}
      },
      "source": [
        ""
      ],
      "execution_count": null,
      "outputs": []
    },
    {
      "cell_type": "code",
      "metadata": {
        "id": "z-7USjZS8Q5K",
        "colab_type": "code",
        "colab": {}
      },
      "source": [
        ""
      ],
      "execution_count": null,
      "outputs": []
    },
    {
      "cell_type": "code",
      "metadata": {
        "id": "1NWhACji8Q8R",
        "colab_type": "code",
        "colab": {}
      },
      "source": [
        ""
      ],
      "execution_count": null,
      "outputs": []
    },
    {
      "cell_type": "code",
      "metadata": {
        "id": "hN0oiuEW8RBS",
        "colab_type": "code",
        "colab": {}
      },
      "source": [
        ""
      ],
      "execution_count": null,
      "outputs": []
    },
    {
      "cell_type": "code",
      "metadata": {
        "id": "dFdP5E6n8RE0",
        "colab_type": "code",
        "colab": {}
      },
      "source": [
        ""
      ],
      "execution_count": null,
      "outputs": []
    },
    {
      "cell_type": "code",
      "metadata": {
        "id": "O8skLIE68RKW",
        "colab_type": "code",
        "colab": {}
      },
      "source": [
        ""
      ],
      "execution_count": null,
      "outputs": []
    },
    {
      "cell_type": "code",
      "metadata": {
        "id": "iLzOjOFq8RNJ",
        "colab_type": "code",
        "colab": {}
      },
      "source": [
        ""
      ],
      "execution_count": null,
      "outputs": []
    },
    {
      "cell_type": "code",
      "metadata": {
        "id": "GCepk3zx8RTI",
        "colab_type": "code",
        "colab": {}
      },
      "source": [
        ""
      ],
      "execution_count": null,
      "outputs": []
    },
    {
      "cell_type": "code",
      "metadata": {
        "id": "ewovEvOr8RXN",
        "colab_type": "code",
        "colab": {}
      },
      "source": [
        ""
      ],
      "execution_count": null,
      "outputs": []
    },
    {
      "cell_type": "code",
      "metadata": {
        "id": "-T7olwGM8RbH",
        "colab_type": "code",
        "colab": {}
      },
      "source": [
        ""
      ],
      "execution_count": null,
      "outputs": []
    },
    {
      "cell_type": "code",
      "metadata": {
        "id": "08y1DOzO8ReB",
        "colab_type": "code",
        "colab": {}
      },
      "source": [
        ""
      ],
      "execution_count": null,
      "outputs": []
    },
    {
      "cell_type": "code",
      "metadata": {
        "id": "BLeMryEr8Rjc",
        "colab_type": "code",
        "colab": {}
      },
      "source": [
        ""
      ],
      "execution_count": null,
      "outputs": []
    },
    {
      "cell_type": "code",
      "metadata": {
        "id": "en7ZP-l_8Rm9",
        "colab_type": "code",
        "colab": {}
      },
      "source": [
        ""
      ],
      "execution_count": null,
      "outputs": []
    },
    {
      "cell_type": "code",
      "metadata": {
        "id": "r-H9CTr68Rsk",
        "colab_type": "code",
        "colab": {}
      },
      "source": [
        ""
      ],
      "execution_count": null,
      "outputs": []
    },
    {
      "cell_type": "code",
      "metadata": {
        "id": "9T8SQpB18RwK",
        "colab_type": "code",
        "colab": {}
      },
      "source": [
        ""
      ],
      "execution_count": null,
      "outputs": []
    },
    {
      "cell_type": "code",
      "metadata": {
        "id": "l6piQ6Du8R3P",
        "colab_type": "code",
        "colab": {}
      },
      "source": [
        ""
      ],
      "execution_count": null,
      "outputs": []
    },
    {
      "cell_type": "code",
      "metadata": {
        "id": "yrGe4az88R7p",
        "colab_type": "code",
        "colab": {}
      },
      "source": [
        ""
      ],
      "execution_count": null,
      "outputs": []
    },
    {
      "cell_type": "code",
      "metadata": {
        "id": "UvkjoRb38SAs",
        "colab_type": "code",
        "colab": {}
      },
      "source": [
        ""
      ],
      "execution_count": null,
      "outputs": []
    },
    {
      "cell_type": "code",
      "metadata": {
        "id": "vt6qiT0G8SH5",
        "colab_type": "code",
        "colab": {}
      },
      "source": [
        ""
      ],
      "execution_count": null,
      "outputs": []
    },
    {
      "cell_type": "code",
      "metadata": {
        "id": "_nBw8ba68SQW",
        "colab_type": "code",
        "colab": {}
      },
      "source": [
        ""
      ],
      "execution_count": null,
      "outputs": []
    },
    {
      "cell_type": "code",
      "metadata": {
        "id": "3F0Yrtqt8SbA",
        "colab_type": "code",
        "colab": {}
      },
      "source": [
        ""
      ],
      "execution_count": null,
      "outputs": []
    },
    {
      "cell_type": "code",
      "metadata": {
        "id": "xXofLrzQ8SiU",
        "colab_type": "code",
        "colab": {}
      },
      "source": [
        ""
      ],
      "execution_count": null,
      "outputs": []
    },
    {
      "cell_type": "code",
      "metadata": {
        "id": "zNp4zXAU8Slp",
        "colab_type": "code",
        "colab": {}
      },
      "source": [
        ""
      ],
      "execution_count": null,
      "outputs": []
    },
    {
      "cell_type": "code",
      "metadata": {
        "id": "idWmYS__8StQ",
        "colab_type": "code",
        "colab": {}
      },
      "source": [
        ""
      ],
      "execution_count": null,
      "outputs": []
    },
    {
      "cell_type": "code",
      "metadata": {
        "id": "3Uz6F-ok8SzN",
        "colab_type": "code",
        "colab": {}
      },
      "source": [
        ""
      ],
      "execution_count": null,
      "outputs": []
    },
    {
      "cell_type": "code",
      "metadata": {
        "id": "-BLitXk48S9L",
        "colab_type": "code",
        "colab": {}
      },
      "source": [
        ""
      ],
      "execution_count": null,
      "outputs": []
    },
    {
      "cell_type": "code",
      "metadata": {
        "id": "hI18Jke18TEi",
        "colab_type": "code",
        "colab": {}
      },
      "source": [
        ""
      ],
      "execution_count": null,
      "outputs": []
    },
    {
      "cell_type": "code",
      "metadata": {
        "id": "3bTxl7n98TH-",
        "colab_type": "code",
        "colab": {}
      },
      "source": [
        ""
      ],
      "execution_count": null,
      "outputs": []
    },
    {
      "cell_type": "code",
      "metadata": {
        "id": "9yQ-xraj8TPb",
        "colab_type": "code",
        "colab": {}
      },
      "source": [
        ""
      ],
      "execution_count": null,
      "outputs": []
    },
    {
      "cell_type": "code",
      "metadata": {
        "id": "BnPEymEv8TXa",
        "colab_type": "code",
        "colab": {}
      },
      "source": [
        ""
      ],
      "execution_count": null,
      "outputs": []
    },
    {
      "cell_type": "code",
      "metadata": {
        "id": "lfVZ1Yji8TjK",
        "colab_type": "code",
        "colab": {}
      },
      "source": [
        ""
      ],
      "execution_count": null,
      "outputs": []
    },
    {
      "cell_type": "code",
      "metadata": {
        "id": "4IOYirGB8TqC",
        "colab_type": "code",
        "colab": {}
      },
      "source": [
        ""
      ],
      "execution_count": null,
      "outputs": []
    },
    {
      "cell_type": "code",
      "metadata": {
        "id": "NOOLL16E8Ttw",
        "colab_type": "code",
        "colab": {}
      },
      "source": [
        ""
      ],
      "execution_count": null,
      "outputs": []
    },
    {
      "cell_type": "code",
      "metadata": {
        "id": "qob_ZXdI8TzB",
        "colab_type": "code",
        "colab": {}
      },
      "source": [
        ""
      ],
      "execution_count": null,
      "outputs": []
    },
    {
      "cell_type": "code",
      "metadata": {
        "id": "_BgCz2z88T3L",
        "colab_type": "code",
        "colab": {}
      },
      "source": [
        ""
      ],
      "execution_count": null,
      "outputs": []
    },
    {
      "cell_type": "code",
      "metadata": {
        "id": "rhvuUkSJ8T7N",
        "colab_type": "code",
        "colab": {}
      },
      "source": [
        ""
      ],
      "execution_count": null,
      "outputs": []
    },
    {
      "cell_type": "code",
      "metadata": {
        "id": "vVgcZTPc8UCm",
        "colab_type": "code",
        "colab": {}
      },
      "source": [
        ""
      ],
      "execution_count": null,
      "outputs": []
    },
    {
      "cell_type": "code",
      "metadata": {
        "id": "vew_Fe_g8UJH",
        "colab_type": "code",
        "colab": {}
      },
      "source": [
        ""
      ],
      "execution_count": null,
      "outputs": []
    },
    {
      "cell_type": "code",
      "metadata": {
        "id": "KUd2y6WD8UO6",
        "colab_type": "code",
        "colab": {}
      },
      "source": [
        ""
      ],
      "execution_count": null,
      "outputs": []
    },
    {
      "cell_type": "code",
      "metadata": {
        "id": "U3itdX3E8UTB",
        "colab_type": "code",
        "colab": {}
      },
      "source": [
        ""
      ],
      "execution_count": null,
      "outputs": []
    },
    {
      "cell_type": "code",
      "metadata": {
        "id": "exp-3npg8UZd",
        "colab_type": "code",
        "colab": {}
      },
      "source": [
        ""
      ],
      "execution_count": null,
      "outputs": []
    },
    {
      "cell_type": "code",
      "metadata": {
        "id": "fU8L-L6G8Ud-",
        "colab_type": "code",
        "colab": {}
      },
      "source": [
        ""
      ],
      "execution_count": null,
      "outputs": []
    },
    {
      "cell_type": "code",
      "metadata": {
        "id": "dXHmyP1C8UlT",
        "colab_type": "code",
        "colab": {}
      },
      "source": [
        ""
      ],
      "execution_count": null,
      "outputs": []
    },
    {
      "cell_type": "code",
      "metadata": {
        "id": "MIwo-JpD8Uv3",
        "colab_type": "code",
        "colab": {}
      },
      "source": [
        ""
      ],
      "execution_count": null,
      "outputs": []
    },
    {
      "cell_type": "code",
      "metadata": {
        "id": "aaROOepH8U3D",
        "colab_type": "code",
        "colab": {}
      },
      "source": [
        ""
      ],
      "execution_count": null,
      "outputs": []
    },
    {
      "cell_type": "code",
      "metadata": {
        "id": "-pbgUDJH8U-e",
        "colab_type": "code",
        "colab": {}
      },
      "source": [
        ""
      ],
      "execution_count": null,
      "outputs": []
    },
    {
      "cell_type": "code",
      "metadata": {
        "id": "ln5fQUpW8VG7",
        "colab_type": "code",
        "colab": {}
      },
      "source": [
        ""
      ],
      "execution_count": null,
      "outputs": []
    },
    {
      "cell_type": "code",
      "metadata": {
        "id": "WLrvk7O88VKQ",
        "colab_type": "code",
        "colab": {}
      },
      "source": [
        ""
      ],
      "execution_count": null,
      "outputs": []
    },
    {
      "cell_type": "code",
      "metadata": {
        "id": "oh-atVzY8VRX",
        "colab_type": "code",
        "colab": {}
      },
      "source": [
        ""
      ],
      "execution_count": null,
      "outputs": []
    },
    {
      "cell_type": "code",
      "metadata": {
        "id": "9V2t1S8y8VYJ",
        "colab_type": "code",
        "colab": {}
      },
      "source": [
        ""
      ],
      "execution_count": null,
      "outputs": []
    },
    {
      "cell_type": "code",
      "metadata": {
        "id": "Lm4sI3Sk8VhO",
        "colab_type": "code",
        "colab": {}
      },
      "source": [
        ""
      ],
      "execution_count": null,
      "outputs": []
    },
    {
      "cell_type": "code",
      "metadata": {
        "id": "97fqPigK8Vpe",
        "colab_type": "code",
        "colab": {}
      },
      "source": [
        ""
      ],
      "execution_count": null,
      "outputs": []
    },
    {
      "cell_type": "code",
      "metadata": {
        "id": "odRRavKl8WCL",
        "colab_type": "code",
        "colab": {}
      },
      "source": [
        ""
      ],
      "execution_count": null,
      "outputs": []
    },
    {
      "cell_type": "code",
      "metadata": {
        "id": "dpS7tiwf8WHy",
        "colab_type": "code",
        "colab": {}
      },
      "source": [
        ""
      ],
      "execution_count": null,
      "outputs": []
    },
    {
      "cell_type": "code",
      "metadata": {
        "id": "pPBO6RnB8WA2",
        "colab_type": "code",
        "colab": {}
      },
      "source": [
        ""
      ],
      "execution_count": null,
      "outputs": []
    },
    {
      "cell_type": "code",
      "metadata": {
        "id": "GOx0JxqI8V-x",
        "colab_type": "code",
        "colab": {}
      },
      "source": [
        ""
      ],
      "execution_count": null,
      "outputs": []
    },
    {
      "cell_type": "code",
      "metadata": {
        "id": "p4y5RtlF8V8_",
        "colab_type": "code",
        "colab": {}
      },
      "source": [
        ""
      ],
      "execution_count": null,
      "outputs": []
    },
    {
      "cell_type": "code",
      "metadata": {
        "id": "pXICTlKV8V7V",
        "colab_type": "code",
        "colab": {}
      },
      "source": [
        ""
      ],
      "execution_count": null,
      "outputs": []
    },
    {
      "cell_type": "code",
      "metadata": {
        "id": "5LKT46Mq8VzJ",
        "colab_type": "code",
        "colab": {}
      },
      "source": [
        ""
      ],
      "execution_count": null,
      "outputs": []
    },
    {
      "cell_type": "code",
      "metadata": {
        "id": "JQGJd9iP8Vw-",
        "colab_type": "code",
        "colab": {}
      },
      "source": [
        ""
      ],
      "execution_count": null,
      "outputs": []
    },
    {
      "cell_type": "code",
      "metadata": {
        "id": "jGtAh0WW8VtR",
        "colab_type": "code",
        "colab": {}
      },
      "source": [
        ""
      ],
      "execution_count": null,
      "outputs": []
    },
    {
      "cell_type": "code",
      "metadata": {
        "id": "FoWAFUpH8Vnr",
        "colab_type": "code",
        "colab": {}
      },
      "source": [
        ""
      ],
      "execution_count": null,
      "outputs": []
    },
    {
      "cell_type": "code",
      "metadata": {
        "id": "HgqgLgE58Vfd",
        "colab_type": "code",
        "colab": {}
      },
      "source": [
        ""
      ],
      "execution_count": null,
      "outputs": []
    },
    {
      "cell_type": "code",
      "metadata": {
        "id": "pDeAmMhh8Vb3",
        "colab_type": "code",
        "colab": {}
      },
      "source": [
        ""
      ],
      "execution_count": null,
      "outputs": []
    },
    {
      "cell_type": "code",
      "metadata": {
        "id": "BpC4UoN98VWM",
        "colab_type": "code",
        "colab": {}
      },
      "source": [
        ""
      ],
      "execution_count": null,
      "outputs": []
    },
    {
      "cell_type": "code",
      "metadata": {
        "id": "S5vYfK7B8VPd",
        "colab_type": "code",
        "colab": {}
      },
      "source": [
        ""
      ],
      "execution_count": null,
      "outputs": []
    },
    {
      "cell_type": "code",
      "metadata": {
        "id": "XHWZ4iAp8VDA",
        "colab_type": "code",
        "colab": {}
      },
      "source": [
        ""
      ],
      "execution_count": null,
      "outputs": []
    },
    {
      "cell_type": "code",
      "metadata": {
        "id": "-Jtrhqw58U8H",
        "colab_type": "code",
        "colab": {}
      },
      "source": [
        ""
      ],
      "execution_count": null,
      "outputs": []
    },
    {
      "cell_type": "code",
      "metadata": {
        "id": "qcsWaLfu8U0K",
        "colab_type": "code",
        "colab": {}
      },
      "source": [
        ""
      ],
      "execution_count": null,
      "outputs": []
    },
    {
      "cell_type": "code",
      "metadata": {
        "id": "GLr8OBaU8Us_",
        "colab_type": "code",
        "colab": {}
      },
      "source": [
        ""
      ],
      "execution_count": null,
      "outputs": []
    },
    {
      "cell_type": "code",
      "metadata": {
        "id": "hcDjJ5w38Upd",
        "colab_type": "code",
        "colab": {}
      },
      "source": [
        ""
      ],
      "execution_count": null,
      "outputs": []
    },
    {
      "cell_type": "code",
      "metadata": {
        "id": "g1YRMnVW8Uh-",
        "colab_type": "code",
        "colab": {}
      },
      "source": [
        ""
      ],
      "execution_count": null,
      "outputs": []
    },
    {
      "cell_type": "code",
      "metadata": {
        "id": "IXASwtpJ8UXH",
        "colab_type": "code",
        "colab": {}
      },
      "source": [
        ""
      ],
      "execution_count": null,
      "outputs": []
    },
    {
      "cell_type": "code",
      "metadata": {
        "id": "dWEP-KbW8UMy",
        "colab_type": "code",
        "colab": {}
      },
      "source": [
        ""
      ],
      "execution_count": null,
      "outputs": []
    },
    {
      "cell_type": "code",
      "metadata": {
        "id": "e3P_g7288UHr",
        "colab_type": "code",
        "colab": {}
      },
      "source": [
        ""
      ],
      "execution_count": null,
      "outputs": []
    },
    {
      "cell_type": "code",
      "metadata": {
        "id": "0BNLsvMY8T_s",
        "colab_type": "code",
        "colab": {}
      },
      "source": [
        ""
      ],
      "execution_count": null,
      "outputs": []
    },
    {
      "cell_type": "code",
      "metadata": {
        "id": "bvf4Wq0f8Tmv",
        "colab_type": "code",
        "colab": {}
      },
      "source": [
        ""
      ],
      "execution_count": null,
      "outputs": []
    },
    {
      "cell_type": "code",
      "metadata": {
        "id": "gt1w6MaN8TgC",
        "colab_type": "code",
        "colab": {}
      },
      "source": [
        ""
      ],
      "execution_count": null,
      "outputs": []
    },
    {
      "cell_type": "code",
      "metadata": {
        "id": "YwMkJqTc8Tbx",
        "colab_type": "code",
        "colab": {}
      },
      "source": [
        ""
      ],
      "execution_count": null,
      "outputs": []
    },
    {
      "cell_type": "code",
      "metadata": {
        "id": "JYKFMdxU8TTr",
        "colab_type": "code",
        "colab": {}
      },
      "source": [
        ""
      ],
      "execution_count": null,
      "outputs": []
    },
    {
      "cell_type": "code",
      "metadata": {
        "id": "bihx4bgT8TNe",
        "colab_type": "code",
        "colab": {}
      },
      "source": [
        ""
      ],
      "execution_count": null,
      "outputs": []
    },
    {
      "cell_type": "code",
      "metadata": {
        "id": "8I_-84t08TBb",
        "colab_type": "code",
        "colab": {}
      },
      "source": [
        ""
      ],
      "execution_count": null,
      "outputs": []
    },
    {
      "cell_type": "code",
      "metadata": {
        "id": "j3EN2sJU8S55",
        "colab_type": "code",
        "colab": {}
      },
      "source": [
        ""
      ],
      "execution_count": null,
      "outputs": []
    },
    {
      "cell_type": "code",
      "metadata": {
        "id": "tqP0A-AS8S3k",
        "colab_type": "code",
        "colab": {}
      },
      "source": [
        ""
      ],
      "execution_count": null,
      "outputs": []
    },
    {
      "cell_type": "code",
      "metadata": {
        "id": "KE9qLfsQ8Swb",
        "colab_type": "code",
        "colab": {}
      },
      "source": [
        ""
      ],
      "execution_count": null,
      "outputs": []
    },
    {
      "cell_type": "code",
      "metadata": {
        "id": "1Nk2ATJY8SrW",
        "colab_type": "code",
        "colab": {}
      },
      "source": [
        ""
      ],
      "execution_count": null,
      "outputs": []
    },
    {
      "cell_type": "code",
      "metadata": {
        "id": "2FLKbqvA8Se6",
        "colab_type": "code",
        "colab": {}
      },
      "source": [
        ""
      ],
      "execution_count": null,
      "outputs": []
    },
    {
      "cell_type": "code",
      "metadata": {
        "id": "tgWysS5N8SYK",
        "colab_type": "code",
        "colab": {}
      },
      "source": [
        ""
      ],
      "execution_count": null,
      "outputs": []
    },
    {
      "cell_type": "code",
      "metadata": {
        "id": "COBUP2wh8SU8",
        "colab_type": "code",
        "colab": {}
      },
      "source": [
        ""
      ],
      "execution_count": null,
      "outputs": []
    },
    {
      "cell_type": "code",
      "metadata": {
        "id": "38yMhixb8SN8",
        "colab_type": "code",
        "colab": {}
      },
      "source": [
        ""
      ],
      "execution_count": null,
      "outputs": []
    },
    {
      "cell_type": "code",
      "metadata": {
        "id": "e0cBUjMN8SFd",
        "colab_type": "code",
        "colab": {}
      },
      "source": [
        ""
      ],
      "execution_count": null,
      "outputs": []
    },
    {
      "cell_type": "code",
      "metadata": {
        "id": "IDnQUFHm8R1n",
        "colab_type": "code",
        "colab": {}
      },
      "source": [
        ""
      ],
      "execution_count": null,
      "outputs": []
    },
    {
      "cell_type": "code",
      "metadata": {
        "id": "LDaINNj88RQf",
        "colab_type": "code",
        "colab": {}
      },
      "source": [
        ""
      ],
      "execution_count": null,
      "outputs": []
    },
    {
      "cell_type": "code",
      "metadata": {
        "id": "RQtZQMyX8RHr",
        "colab_type": "code",
        "colab": {}
      },
      "source": [
        ""
      ],
      "execution_count": null,
      "outputs": []
    },
    {
      "cell_type": "code",
      "metadata": {
        "id": "kLL_TJvI8Q_k",
        "colab_type": "code",
        "colab": {}
      },
      "source": [
        ""
      ],
      "execution_count": null,
      "outputs": []
    },
    {
      "cell_type": "code",
      "metadata": {
        "id": "ehFRjNXQ8Q2q",
        "colab_type": "code",
        "colab": {}
      },
      "source": [
        ""
      ],
      "execution_count": null,
      "outputs": []
    },
    {
      "cell_type": "code",
      "metadata": {
        "id": "GQrxEaww8O4X",
        "colab_type": "code",
        "colab": {}
      },
      "source": [
        ""
      ],
      "execution_count": null,
      "outputs": []
    },
    {
      "cell_type": "code",
      "metadata": {
        "id": "LpnOKgTv8O1u",
        "colab_type": "code",
        "colab": {}
      },
      "source": [
        ""
      ],
      "execution_count": null,
      "outputs": []
    },
    {
      "cell_type": "code",
      "metadata": {
        "id": "oHtf3vV08OxP",
        "colab_type": "code",
        "colab": {}
      },
      "source": [
        ""
      ],
      "execution_count": null,
      "outputs": []
    },
    {
      "cell_type": "code",
      "metadata": {
        "id": "dA1JF-qS8Oqy",
        "colab_type": "code",
        "colab": {}
      },
      "source": [
        ""
      ],
      "execution_count": null,
      "outputs": []
    },
    {
      "cell_type": "code",
      "metadata": {
        "id": "1YQCS_8j8OlU",
        "colab_type": "code",
        "colab": {}
      },
      "source": [
        ""
      ],
      "execution_count": null,
      "outputs": []
    },
    {
      "cell_type": "code",
      "metadata": {
        "id": "q5r7_78g8Oi1",
        "colab_type": "code",
        "colab": {}
      },
      "source": [
        ""
      ],
      "execution_count": null,
      "outputs": []
    },
    {
      "cell_type": "code",
      "metadata": {
        "id": "Ltfz7JX88Od-",
        "colab_type": "code",
        "colab": {}
      },
      "source": [
        ""
      ],
      "execution_count": null,
      "outputs": []
    },
    {
      "cell_type": "code",
      "metadata": {
        "id": "W7o_8v2R8Ob9",
        "colab_type": "code",
        "colab": {}
      },
      "source": [
        ""
      ],
      "execution_count": null,
      "outputs": []
    },
    {
      "cell_type": "code",
      "metadata": {
        "id": "V85QPhX18OVK",
        "colab_type": "code",
        "colab": {}
      },
      "source": [
        ""
      ],
      "execution_count": null,
      "outputs": []
    },
    {
      "cell_type": "code",
      "metadata": {
        "id": "nQ1VqQsl8OSp",
        "colab_type": "code",
        "colab": {}
      },
      "source": [
        ""
      ],
      "execution_count": null,
      "outputs": []
    },
    {
      "cell_type": "code",
      "metadata": {
        "id": "-sAgoatu8OQv",
        "colab_type": "code",
        "colab": {}
      },
      "source": [
        ""
      ],
      "execution_count": null,
      "outputs": []
    },
    {
      "cell_type": "code",
      "metadata": {
        "id": "zlcKXAP-8OPA",
        "colab_type": "code",
        "colab": {}
      },
      "source": [
        ""
      ],
      "execution_count": null,
      "outputs": []
    },
    {
      "cell_type": "code",
      "metadata": {
        "id": "BeL55Jgu8OG5",
        "colab_type": "code",
        "colab": {}
      },
      "source": [
        ""
      ],
      "execution_count": null,
      "outputs": []
    },
    {
      "cell_type": "code",
      "metadata": {
        "id": "6IX8TP9V8OCK",
        "colab_type": "code",
        "colab": {}
      },
      "source": [
        ""
      ],
      "execution_count": null,
      "outputs": []
    },
    {
      "cell_type": "code",
      "metadata": {
        "id": "IdjXE1KA8N_8",
        "colab_type": "code",
        "colab": {}
      },
      "source": [
        ""
      ],
      "execution_count": null,
      "outputs": []
    },
    {
      "cell_type": "code",
      "metadata": {
        "id": "7rU3Zz6B8N4I",
        "colab_type": "code",
        "colab": {}
      },
      "source": [
        ""
      ],
      "execution_count": null,
      "outputs": []
    },
    {
      "cell_type": "code",
      "metadata": {
        "id": "vIhk6mw38Nwu",
        "colab_type": "code",
        "colab": {}
      },
      "source": [
        ""
      ],
      "execution_count": null,
      "outputs": []
    },
    {
      "cell_type": "code",
      "metadata": {
        "id": "CrodyDl18Nut",
        "colab_type": "code",
        "colab": {}
      },
      "source": [
        ""
      ],
      "execution_count": null,
      "outputs": []
    },
    {
      "cell_type": "code",
      "metadata": {
        "id": "9NOFrYhQ8Nnr",
        "colab_type": "code",
        "colab": {}
      },
      "source": [
        ""
      ],
      "execution_count": null,
      "outputs": []
    },
    {
      "cell_type": "code",
      "metadata": {
        "id": "o2IZIrXz8Ne-",
        "colab_type": "code",
        "colab": {}
      },
      "source": [
        ""
      ],
      "execution_count": null,
      "outputs": []
    },
    {
      "cell_type": "code",
      "metadata": {
        "id": "yGqLhS_d8Nc-",
        "colab_type": "code",
        "colab": {}
      },
      "source": [
        ""
      ],
      "execution_count": null,
      "outputs": []
    },
    {
      "cell_type": "code",
      "metadata": {
        "id": "sc3lDmEY58jJ",
        "colab_type": "code",
        "colab": {}
      },
      "source": [
        ""
      ],
      "execution_count": null,
      "outputs": []
    }
  ]
}